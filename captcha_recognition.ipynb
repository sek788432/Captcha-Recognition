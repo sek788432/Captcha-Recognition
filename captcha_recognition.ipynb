{
 "cells": [
  {
   "cell_type": "code",
   "execution_count": 1,
   "metadata": {
    "id": "W8h0syeHYpCt"
   },
   "outputs": [],
   "source": [
    "import numpy as np\n",
    "import tensorflow as tf\n",
    "from tensorflow.keras.layers import Input, Dense, Activation, BatchNormalization, Flatten, Conv2D, AveragePooling2D, MaxPooling2D, Dropout\n",
    "from tensorflow.keras.models import Model, load_model\n",
    "from matplotlib import pyplot as plt\n",
    "import scipy.io\n",
    "import scipy.ndimage as ndi\n",
    "from PIL import Image"
   ]
  },
  {
   "cell_type": "markdown",
   "metadata": {
    "id": "OoVZf73kYpC2"
   },
   "source": [
    "Check GPU"
   ]
  },
  {
   "cell_type": "code",
   "execution_count": 2,
   "metadata": {
    "colab": {
     "base_uri": "https://localhost:8080/"
    },
    "id": "sgQShyrWYpC3",
    "outputId": "eab1f605-8aaa-40b3-b7e3-ba7d871ad915"
   },
   "outputs": [
    {
     "name": "stdout",
     "output_type": "stream",
     "text": [
      "1 Physical GPUs, 1 Logical GPUs\n"
     ]
    }
   ],
   "source": [
    "def solve_cudnn_error():\n",
    "    gpus = tf.config.experimental.list_physical_devices('GPU')\n",
    "    if gpus:\n",
    "        try:\n",
    "            # Currently, memory growth needs to be the same across GPUs\n",
    "            for gpu in gpus:\n",
    "                tf.config.experimental.set_memory_growth(gpu, True)\n",
    "            logical_gpus = tf.config.experimental.list_logical_devices('GPU')\n",
    "            print(len(gpus), \"Physical GPUs,\", len(logical_gpus), \"Logical GPUs\")\n",
    "        except RuntimeError as e:\n",
    "            # Memory growth must be set before GPUs have been initialized\n",
    "            print(e)\n",
    "solve_cudnn_error()"
   ]
  },
  {
   "cell_type": "markdown",
   "metadata": {
    "id": "MQUBDKFXYpC3"
   },
   "source": [
    "Training Data Preprocess"
   ]
  },
  {
   "cell_type": "code",
   "execution_count": 4,
   "metadata": {
    "id": "ktM4ygGMYpC4"
   },
   "outputs": [],
   "source": [
    "#Resize Image to (50,130)\n",
    "mat = scipy.io.loadmat('train.mat')\n",
    "x = mat['x']\n",
    "height = 50\n",
    "width = 130\n",
    "resize = []\n",
    "for i in range(x.size):\n",
    "    factor_h = height/x.item(i).shape[0]\n",
    "    factor_w = width/x.item(i).shape[1]\n",
    "    resize.append(ndi.zoom(x.item(i), (factor_h,factor_w,1)))"
   ]
  },
  {
   "cell_type": "code",
   "execution_count": 5,
   "metadata": {
    "colab": {
     "base_uri": "https://localhost:8080/"
    },
    "id": "aDwHnXJNYpC4",
    "outputId": "20993bea-d25b-468c-ed64-490dafa27a98"
   },
   "outputs": [
    {
     "name": "stdout",
     "output_type": "stream",
     "text": [
      "(50, 130, 3)\n",
      "(50, 130, 3)\n",
      "(50, 130, 3)\n",
      "(50, 130, 3)\n",
      "(50, 130, 3)\n",
      "(5000, 50, 130, 3)\n"
     ]
    }
   ],
   "source": [
    "for i in range(5):\n",
    "    img = Image.fromarray(resize[i], 'RGB')\n",
    "    file_name = \"my\"\n",
    "    file_name = file_name + str(i) + \".png\"\n",
    "    img.save(file_name)\n",
    "    img.show()\n",
    "    print(resize[i].shape)\n",
    "x_train = np.array(resize)\n",
    "print(x_train.shape)"
   ]
  },
  {
   "cell_type": "code",
   "execution_count": 6,
   "metadata": {
    "id": "uXbAj8OkYpC5"
   },
   "outputs": [],
   "source": [
    "#(4,5000,19)    4 digit, 5000 data, 19 class \n",
    "y = mat['y']\n",
    "onehot = mat['y_onehot']\n",
    "y_train = []\n",
    "lists = [ [] for _ in range(4) ]\n",
    "for i in range(y.size):\n",
    "    if i%4==0:\n",
    "        lists[0].append(onehot[i])\n",
    "    elif i%4==1:\n",
    "        lists[1].append(onehot[i])\n",
    "    elif i%4==2:\n",
    "        lists[2].append(onehot[i])\n",
    "    else: \n",
    "        lists[3].append(onehot[i])\n",
    "for i in range(4):\n",
    "    lists[i] = np.array(lists[i])\n",
    "    y_train.append(lists[i])"
   ]
  },
  {
   "cell_type": "markdown",
   "metadata": {
    "id": "m6PauF0tYpC5"
   },
   "source": [
    "Model Define and Training"
   ]
  },
  {
   "cell_type": "code",
   "execution_count": 7,
   "metadata": {
    "colab": {
     "base_uri": "https://localhost:8080/"
    },
    "id": "1paQx8uVYpC6",
    "outputId": "42e5ca90-ce7e-4cc8-f48d-827450c34e81"
   },
   "outputs": [
    {
     "name": "stdout",
     "output_type": "stream",
     "text": [
      "Model: \"four_digit_Model\"\n",
      "__________________________________________________________________________________________________\n",
      "Layer (type)                    Output Shape         Param #     Connected to                     \n",
      "==================================================================================================\n",
      "input_1 (InputLayer)            [(None, 50, 130, 3)] 0                                            \n",
      "__________________________________________________________________________________________________\n",
      "conv2d (Conv2D)                 (None, 50, 130, 32)  896         input_1[0][0]                    \n",
      "__________________________________________________________________________________________________\n",
      "conv2d_1 (Conv2D)               (None, 48, 128, 32)  9248        conv2d[0][0]                     \n",
      "__________________________________________________________________________________________________\n",
      "batch_normalization (BatchNorma (None, 48, 128, 32)  128         conv2d_1[0][0]                   \n",
      "__________________________________________________________________________________________________\n",
      "max_pooling2d (MaxPooling2D)    (None, 24, 64, 32)   0           batch_normalization[0][0]        \n",
      "__________________________________________________________________________________________________\n",
      "dropout (Dropout)               (None, 24, 64, 32)   0           max_pooling2d[0][0]              \n",
      "__________________________________________________________________________________________________\n",
      "conv2d_2 (Conv2D)               (None, 24, 64, 64)   18496       dropout[0][0]                    \n",
      "__________________________________________________________________________________________________\n",
      "conv2d_3 (Conv2D)               (None, 22, 62, 64)   36928       conv2d_2[0][0]                   \n",
      "__________________________________________________________________________________________________\n",
      "batch_normalization_1 (BatchNor (None, 22, 62, 64)   256         conv2d_3[0][0]                   \n",
      "__________________________________________________________________________________________________\n",
      "max_pooling2d_1 (MaxPooling2D)  (None, 11, 31, 64)   0           batch_normalization_1[0][0]      \n",
      "__________________________________________________________________________________________________\n",
      "dropout_1 (Dropout)             (None, 11, 31, 64)   0           max_pooling2d_1[0][0]            \n",
      "__________________________________________________________________________________________________\n",
      "conv2d_4 (Conv2D)               (None, 11, 31, 128)  73856       dropout_1[0][0]                  \n",
      "__________________________________________________________________________________________________\n",
      "conv2d_5 (Conv2D)               (None, 9, 29, 128)   147584      conv2d_4[0][0]                   \n",
      "__________________________________________________________________________________________________\n",
      "batch_normalization_2 (BatchNor (None, 9, 29, 128)   512         conv2d_5[0][0]                   \n",
      "__________________________________________________________________________________________________\n",
      "max_pooling2d_2 (MaxPooling2D)  (None, 4, 14, 128)   0           batch_normalization_2[0][0]      \n",
      "__________________________________________________________________________________________________\n",
      "dropout_2 (Dropout)             (None, 4, 14, 128)   0           max_pooling2d_2[0][0]            \n",
      "__________________________________________________________________________________________________\n",
      "conv2d_6 (Conv2D)               (None, 2, 12, 256)   295168      dropout_2[0][0]                  \n",
      "__________________________________________________________________________________________________\n",
      "batch_normalization_3 (BatchNor (None, 2, 12, 256)   1024        conv2d_6[0][0]                   \n",
      "__________________________________________________________________________________________________\n",
      "max_pooling2d_3 (MaxPooling2D)  (None, 1, 6, 256)    0           batch_normalization_3[0][0]      \n",
      "__________________________________________________________________________________________________\n",
      "flatten (Flatten)               (None, 1536)         0           max_pooling2d_3[0][0]            \n",
      "__________________________________________________________________________________________________\n",
      "dropout_3 (Dropout)             (None, 1536)         0           flatten[0][0]                    \n",
      "__________________________________________________________________________________________________\n",
      "digit1 (Dense)                  (None, 19)           29203       dropout_3[0][0]                  \n",
      "__________________________________________________________________________________________________\n",
      "digit2 (Dense)                  (None, 19)           29203       dropout_3[0][0]                  \n",
      "__________________________________________________________________________________________________\n",
      "digit3 (Dense)                  (None, 19)           29203       dropout_3[0][0]                  \n",
      "__________________________________________________________________________________________________\n",
      "digit4 (Dense)                  (None, 19)           29203       dropout_3[0][0]                  \n",
      "==================================================================================================\n",
      "Total params: 700,908\n",
      "Trainable params: 699,948\n",
      "Non-trainable params: 960\n",
      "__________________________________________________________________________________________________\n",
      "Epoch 1/20\n",
      "282/282 [==============================] - 9s 17ms/step - loss: 13.8689 - digit1_loss: 3.3391 - digit2_loss: 3.4746 - digit3_loss: 3.4475 - digit4_loss: 3.6077 - digit1_accuracy: 0.2109 - digit2_accuracy: 0.1728 - digit3_accuracy: 0.1988 - digit4_accuracy: 0.1523 - val_loss: 6.4954 - val_digit1_loss: 1.4490 - val_digit2_loss: 1.8752 - val_digit3_loss: 1.7603 - val_digit4_loss: 1.4109 - val_digit1_accuracy: 0.5240 - val_digit2_accuracy: 0.4780 - val_digit3_accuracy: 0.4740 - val_digit4_accuracy: 0.5320\n",
      "Epoch 2/20\n",
      "282/282 [==============================] - 4s 14ms/step - loss: 3.2078 - digit1_loss: 0.7262 - digit2_loss: 0.8384 - digit3_loss: 0.8119 - digit4_loss: 0.8312 - digit1_accuracy: 0.7605 - digit2_accuracy: 0.7220 - digit3_accuracy: 0.7437 - digit4_accuracy: 0.7311 - val_loss: 0.7584 - val_digit1_loss: 0.1862 - val_digit2_loss: 0.2544 - val_digit3_loss: 0.1711 - val_digit4_loss: 0.1467 - val_digit1_accuracy: 0.9300 - val_digit2_accuracy: 0.9240 - val_digit3_accuracy: 0.9520 - val_digit4_accuracy: 0.9660\n",
      "Epoch 3/20\n",
      "282/282 [==============================] - 4s 13ms/step - loss: 0.9283 - digit1_loss: 0.2511 - digit2_loss: 0.2492 - digit3_loss: 0.2437 - digit4_loss: 0.1843 - digit1_accuracy: 0.9196 - digit2_accuracy: 0.9183 - digit3_accuracy: 0.9225 - digit4_accuracy: 0.9392 - val_loss: 0.3779 - val_digit1_loss: 0.1091 - val_digit2_loss: 0.1255 - val_digit3_loss: 0.0652 - val_digit4_loss: 0.0782 - val_digit1_accuracy: 0.9660 - val_digit2_accuracy: 0.9640 - val_digit3_accuracy: 0.9800 - val_digit4_accuracy: 0.9880\n",
      "Epoch 4/20\n",
      "282/282 [==============================] - 4s 13ms/step - loss: 0.4671 - digit1_loss: 0.1162 - digit2_loss: 0.1246 - digit3_loss: 0.1286 - digit4_loss: 0.0976 - digit1_accuracy: 0.9689 - digit2_accuracy: 0.9646 - digit3_accuracy: 0.9682 - digit4_accuracy: 0.9696 - val_loss: 0.2312 - val_digit1_loss: 0.0475 - val_digit2_loss: 0.0811 - val_digit3_loss: 0.0403 - val_digit4_loss: 0.0623 - val_digit1_accuracy: 0.9920 - val_digit2_accuracy: 0.9800 - val_digit3_accuracy: 0.9900 - val_digit4_accuracy: 0.9900\n",
      "Epoch 5/20\n",
      "282/282 [==============================] - 4s 14ms/step - loss: 0.2443 - digit1_loss: 0.0608 - digit2_loss: 0.0808 - digit3_loss: 0.0579 - digit4_loss: 0.0447 - digit1_accuracy: 0.9832 - digit2_accuracy: 0.9795 - digit3_accuracy: 0.9844 - digit4_accuracy: 0.9871 - val_loss: 0.1809 - val_digit1_loss: 0.0528 - val_digit2_loss: 0.0542 - val_digit3_loss: 0.0196 - val_digit4_loss: 0.0544 - val_digit1_accuracy: 0.9940 - val_digit2_accuracy: 0.9880 - val_digit3_accuracy: 0.9960 - val_digit4_accuracy: 0.9940\n",
      "Epoch 6/20\n",
      "282/282 [==============================] - 4s 14ms/step - loss: 0.1905 - digit1_loss: 0.0579 - digit2_loss: 0.0529 - digit3_loss: 0.0445 - digit4_loss: 0.0352 - digit1_accuracy: 0.9844 - digit2_accuracy: 0.9844 - digit3_accuracy: 0.9870 - digit4_accuracy: 0.9887 - val_loss: 0.1823 - val_digit1_loss: 0.0716 - val_digit2_loss: 0.0493 - val_digit3_loss: 0.0157 - val_digit4_loss: 0.0457 - val_digit1_accuracy: 0.9880 - val_digit2_accuracy: 0.9900 - val_digit3_accuracy: 0.9920 - val_digit4_accuracy: 0.9960\n",
      "Epoch 7/20\n",
      "282/282 [==============================] - 4s 14ms/step - loss: 0.1246 - digit1_loss: 0.0411 - digit2_loss: 0.0348 - digit3_loss: 0.0275 - digit4_loss: 0.0212 - digit1_accuracy: 0.9875 - digit2_accuracy: 0.9900 - digit3_accuracy: 0.9921 - digit4_accuracy: 0.9944 - val_loss: 0.1899 - val_digit1_loss: 0.0858 - val_digit2_loss: 0.0532 - val_digit3_loss: 0.0064 - val_digit4_loss: 0.0444 - val_digit1_accuracy: 0.9880 - val_digit2_accuracy: 0.9960 - val_digit3_accuracy: 1.0000 - val_digit4_accuracy: 0.9980\n",
      "Epoch 8/20\n",
      "282/282 [==============================] - 4s 14ms/step - loss: 0.1083 - digit1_loss: 0.0317 - digit2_loss: 0.0334 - digit3_loss: 0.0250 - digit4_loss: 0.0182 - digit1_accuracy: 0.9892 - digit2_accuracy: 0.9885 - digit3_accuracy: 0.9933 - digit4_accuracy: 0.9969 - val_loss: 0.1777 - val_digit1_loss: 0.0500 - val_digit2_loss: 0.0673 - val_digit3_loss: 0.0077 - val_digit4_loss: 0.0527 - val_digit1_accuracy: 0.9920 - val_digit2_accuracy: 0.9880 - val_digit3_accuracy: 0.9980 - val_digit4_accuracy: 0.9900\n",
      "Epoch 9/20\n",
      "282/282 [==============================] - 4s 14ms/step - loss: 0.0796 - digit1_loss: 0.0229 - digit2_loss: 0.0254 - digit3_loss: 0.0168 - digit4_loss: 0.0145 - digit1_accuracy: 0.9950 - digit2_accuracy: 0.9935 - digit3_accuracy: 0.9958 - digit4_accuracy: 0.9958 - val_loss: 0.1919 - val_digit1_loss: 0.0526 - val_digit2_loss: 0.0616 - val_digit3_loss: 0.0281 - val_digit4_loss: 0.0495 - val_digit1_accuracy: 0.9920 - val_digit2_accuracy: 0.9920 - val_digit3_accuracy: 0.9940 - val_digit4_accuracy: 0.9980\n",
      "Epoch 10/20\n",
      "282/282 [==============================] - 4s 13ms/step - loss: 0.0739 - digit1_loss: 0.0197 - digit2_loss: 0.0182 - digit3_loss: 0.0211 - digit4_loss: 0.0149 - digit1_accuracy: 0.9945 - digit2_accuracy: 0.9938 - digit3_accuracy: 0.9955 - digit4_accuracy: 0.9972 - val_loss: 0.1685 - val_digit1_loss: 0.0531 - val_digit2_loss: 0.0482 - val_digit3_loss: 0.0124 - val_digit4_loss: 0.0548 - val_digit1_accuracy: 0.9940 - val_digit2_accuracy: 0.9960 - val_digit3_accuracy: 0.9960 - val_digit4_accuracy: 0.9940\n",
      "Epoch 11/20\n",
      "282/282 [==============================] - 4s 14ms/step - loss: 0.0775 - digit1_loss: 0.0302 - digit2_loss: 0.0220 - digit3_loss: 0.0120 - digit4_loss: 0.0133 - digit1_accuracy: 0.9903 - digit2_accuracy: 0.9926 - digit3_accuracy: 0.9963 - digit4_accuracy: 0.9953 - val_loss: 0.2021 - val_digit1_loss: 0.0807 - val_digit2_loss: 0.0573 - val_digit3_loss: 0.0055 - val_digit4_loss: 0.0586 - val_digit1_accuracy: 0.9920 - val_digit2_accuracy: 0.9920 - val_digit3_accuracy: 0.9980 - val_digit4_accuracy: 0.9940\n",
      "Epoch 12/20\n",
      "282/282 [==============================] - 4s 14ms/step - loss: 0.1085 - digit1_loss: 0.0432 - digit2_loss: 0.0272 - digit3_loss: 0.0251 - digit4_loss: 0.0131 - digit1_accuracy: 0.9862 - digit2_accuracy: 0.9916 - digit3_accuracy: 0.9922 - digit4_accuracy: 0.9953 - val_loss: 0.4561 - val_digit1_loss: 0.1628 - val_digit2_loss: 0.0945 - val_digit3_loss: 0.0950 - val_digit4_loss: 0.1038 - val_digit1_accuracy: 0.9780 - val_digit2_accuracy: 0.9800 - val_digit3_accuracy: 0.9720 - val_digit4_accuracy: 0.9720\n",
      "Epoch 13/20\n",
      "282/282 [==============================] - 4s 14ms/step - loss: 0.1564 - digit1_loss: 0.0656 - digit2_loss: 0.0260 - digit3_loss: 0.0390 - digit4_loss: 0.0258 - digit1_accuracy: 0.9843 - digit2_accuracy: 0.9924 - digit3_accuracy: 0.9900 - digit4_accuracy: 0.9917 - val_loss: 0.2589 - val_digit1_loss: 0.1014 - val_digit2_loss: 0.0398 - val_digit3_loss: 0.0561 - val_digit4_loss: 0.0615 - val_digit1_accuracy: 0.9860 - val_digit2_accuracy: 0.9980 - val_digit3_accuracy: 0.9880 - val_digit4_accuracy: 0.9920\n",
      "Epoch 14/20\n",
      "282/282 [==============================] - 4s 13ms/step - loss: 0.1286 - digit1_loss: 0.0457 - digit2_loss: 0.0336 - digit3_loss: 0.0284 - digit4_loss: 0.0209 - digit1_accuracy: 0.9885 - digit2_accuracy: 0.9888 - digit3_accuracy: 0.9917 - digit4_accuracy: 0.9942 - val_loss: 0.1986 - val_digit1_loss: 0.0961 - val_digit2_loss: 0.0468 - val_digit3_loss: 0.0032 - val_digit4_loss: 0.0525 - val_digit1_accuracy: 0.9880 - val_digit2_accuracy: 0.9960 - val_digit3_accuracy: 1.0000 - val_digit4_accuracy: 0.9920\n",
      "Epoch 15/20\n",
      "282/282 [==============================] - 4s 14ms/step - loss: 0.0680 - digit1_loss: 0.0331 - digit2_loss: 0.0126 - digit3_loss: 0.0119 - digit4_loss: 0.0104 - digit1_accuracy: 0.9915 - digit2_accuracy: 0.9956 - digit3_accuracy: 0.9956 - digit4_accuracy: 0.9965 - val_loss: 0.2704 - val_digit1_loss: 0.0845 - val_digit2_loss: 0.0862 - val_digit3_loss: 0.0393 - val_digit4_loss: 0.0604 - val_digit1_accuracy: 0.9880 - val_digit2_accuracy: 0.9900 - val_digit3_accuracy: 0.9920 - val_digit4_accuracy: 0.9940\n",
      "Epoch 16/20\n",
      "282/282 [==============================] - 4s 14ms/step - loss: 0.0704 - digit1_loss: 0.0248 - digit2_loss: 0.0227 - digit3_loss: 0.0155 - digit4_loss: 0.0073 - digit1_accuracy: 0.9921 - digit2_accuracy: 0.9938 - digit3_accuracy: 0.9958 - digit4_accuracy: 0.9984 - val_loss: 0.2418 - val_digit1_loss: 0.0591 - val_digit2_loss: 0.0901 - val_digit3_loss: 0.0157 - val_digit4_loss: 0.0770 - val_digit1_accuracy: 0.9920 - val_digit2_accuracy: 0.9920 - val_digit3_accuracy: 0.9940 - val_digit4_accuracy: 0.9940\n",
      "Epoch 17/20\n",
      "282/282 [==============================] - 4s 14ms/step - loss: 0.0588 - digit1_loss: 0.0214 - digit2_loss: 0.0168 - digit3_loss: 0.0148 - digit4_loss: 0.0058 - digit1_accuracy: 0.9937 - digit2_accuracy: 0.9956 - digit3_accuracy: 0.9955 - digit4_accuracy: 0.9982 - val_loss: 0.2495 - val_digit1_loss: 0.0987 - val_digit2_loss: 0.0532 - val_digit3_loss: 0.0241 - val_digit4_loss: 0.0734 - val_digit1_accuracy: 0.9900 - val_digit2_accuracy: 0.9940 - val_digit3_accuracy: 0.9900 - val_digit4_accuracy: 0.9900\n",
      "Epoch 18/20\n",
      "282/282 [==============================] - 4s 14ms/step - loss: 0.0894 - digit1_loss: 0.0340 - digit2_loss: 0.0190 - digit3_loss: 0.0200 - digit4_loss: 0.0165 - digit1_accuracy: 0.9922 - digit2_accuracy: 0.9940 - digit3_accuracy: 0.9944 - digit4_accuracy: 0.9954 - val_loss: 0.3359 - val_digit1_loss: 0.1100 - val_digit2_loss: 0.0601 - val_digit3_loss: 0.0733 - val_digit4_loss: 0.0925 - val_digit1_accuracy: 0.9920 - val_digit2_accuracy: 0.9960 - val_digit3_accuracy: 0.9820 - val_digit4_accuracy: 0.9860\n",
      "Epoch 19/20\n",
      "282/282 [==============================] - 4s 14ms/step - loss: 0.0689 - digit1_loss: 0.0148 - digit2_loss: 0.0196 - digit3_loss: 0.0262 - digit4_loss: 0.0083 - digit1_accuracy: 0.9953 - digit2_accuracy: 0.9925 - digit3_accuracy: 0.9949 - digit4_accuracy: 0.9976 - val_loss: 0.1516 - val_digit1_loss: 0.0300 - val_digit2_loss: 0.0520 - val_digit3_loss: 0.0106 - val_digit4_loss: 0.0591 - val_digit1_accuracy: 0.9940 - val_digit2_accuracy: 0.9940 - val_digit3_accuracy: 0.9960 - val_digit4_accuracy: 0.9940\n",
      "Epoch 20/20\n",
      "282/282 [==============================] - 4s 14ms/step - loss: 0.0755 - digit1_loss: 0.0333 - digit2_loss: 0.0209 - digit3_loss: 0.0153 - digit4_loss: 0.0059 - digit1_accuracy: 0.9918 - digit2_accuracy: 0.9939 - digit3_accuracy: 0.9958 - digit4_accuracy: 0.9968 - val_loss: 0.2555 - val_digit1_loss: 0.0717 - val_digit2_loss: 0.0862 - val_digit3_loss: 0.0100 - val_digit4_loss: 0.0877 - val_digit1_accuracy: 0.9940 - val_digit2_accuracy: 0.9900 - val_digit3_accuracy: 0.9960 - val_digit4_accuracy: 0.9940\n"
     ]
    }
   ],
   "source": [
    "def four_digit_model(input_shape):\n",
    "    X_input = Input(shape = input_shape)\n",
    "    out = Conv2D(filters=32, kernel_size=(3, 3), padding='same', activation='relu')(X_input)\n",
    "    out = Conv2D(filters=32, kernel_size=(3, 3), activation='relu')(out)\n",
    "    out = BatchNormalization()(out)\n",
    "    out = MaxPooling2D(pool_size=(2, 2))(out)\n",
    "    out = Dropout(0.3)(out)\n",
    "    out = Conv2D(filters=64, kernel_size=(3, 3), padding='same', activation='relu')(out)\n",
    "    out = Conv2D(filters=64, kernel_size=(3, 3), activation='relu')(out)\n",
    "    out = BatchNormalization()(out)\n",
    "    out = MaxPooling2D(pool_size=(2, 2))(out)\n",
    "    out = Dropout(0.3)(out)\n",
    "    out = Conv2D(filters=128, kernel_size=(3, 3), padding='same', activation='relu')(out)\n",
    "    out = Conv2D(filters=128, kernel_size=(3, 3), activation='relu')(out)\n",
    "    out = BatchNormalization()(out)\n",
    "    out = MaxPooling2D(pool_size=(2, 2))(out)\n",
    "    out = Dropout(0.3)(out)\n",
    "    out = Conv2D(filters=256, kernel_size=(3, 3), activation='relu')(out)\n",
    "    out = BatchNormalization()(out)\n",
    "    out = MaxPooling2D(pool_size=(2, 2))(out)\n",
    "    out = Flatten()(out)\n",
    "    out = Dropout(0.3)(out)\n",
    "    out = [Dense(19, name='digit1', activation='softmax')(out),\\\n",
    "        Dense(19, name='digit2', activation='softmax')(out),\\\n",
    "        Dense(19, name='digit3', activation='softmax')(out),\\\n",
    "        Dense(19, name='digit4', activation='softmax')(out)]\n",
    "    model = Model(inputs = X_input, outputs = out, name='four_digit_Model')  \n",
    "    return model\n",
    "md = four_digit_model((height,width,3))\n",
    "md.summary()\n",
    "md.compile(optimizer = \"adam\", loss = \"categorical_crossentropy\",  metrics = [tf.keras.metrics.CategoricalAccuracy(name=\"accuracy\")])\n",
    "md.fit(x_train,y_train, batch_size=16, epochs=20, validation_split = 0.1, shuffle = True)\n",
    "md.save('four_digit_model.h5')"
   ]
  },
  {
   "cell_type": "markdown",
   "metadata": {
    "id": "9kJxpSiUYpC6"
   },
   "source": [
    "Test Data Preprocess"
   ]
  },
  {
   "cell_type": "code",
   "execution_count": 8,
   "metadata": {
    "colab": {
     "base_uri": "https://localhost:8080/"
    },
    "id": "ih_T9GL_YpC7",
    "outputId": "49159502-901e-4536-b0ca-02a406f76915"
   },
   "outputs": [
    {
     "name": "stdout",
     "output_type": "stream",
     "text": [
      "(3000, 50, 130, 3)\n"
     ]
    }
   ],
   "source": [
    "mat = scipy.io.loadmat('test.mat')\n",
    "x = mat['x']\n",
    "height = 50\n",
    "width = 130\n",
    "resize = []\n",
    "for i in range(x.size):\n",
    "    factor_h = height/x.item(i).shape[0]\n",
    "    factor_w = width/x.item(i).shape[1]\n",
    "    resize.append(ndi.zoom(x.item(i), (factor_h,factor_w,1)))\n",
    "x_test = np.array(resize)\n",
    "print(x_test.shape)"
   ]
  },
  {
   "cell_type": "markdown",
   "metadata": {
    "id": "jCX7rhgEYpC7"
   },
   "source": [
    "Label Preprocess"
   ]
  },
  {
   "cell_type": "code",
   "execution_count": 9,
   "metadata": {
    "colab": {
     "base_uri": "https://localhost:8080/"
    },
    "id": "wponnSYgYpC7",
    "outputId": "feb40ea5-171f-4786-e172-49f911dd7ad3"
   },
   "outputs": [
    {
     "name": "stdout",
     "output_type": "stream",
     "text": [
      "[array([[0, 0, 0, ..., 0, 0, 0],\n",
      "       [0, 0, 1, ..., 0, 0, 0],\n",
      "       [0, 0, 0, ..., 0, 0, 0],\n",
      "       ...,\n",
      "       [0, 1, 0, ..., 0, 0, 0],\n",
      "       [0, 0, 0, ..., 0, 0, 0],\n",
      "       [0, 0, 0, ..., 0, 0, 0]], dtype=uint8), array([[0, 0, 0, ..., 0, 0, 0],\n",
      "       [1, 0, 0, ..., 0, 0, 0],\n",
      "       [0, 0, 0, ..., 0, 1, 0],\n",
      "       ...,\n",
      "       [0, 0, 0, ..., 0, 0, 1],\n",
      "       [0, 0, 0, ..., 0, 1, 0],\n",
      "       [0, 1, 0, ..., 0, 0, 0]], dtype=uint8), array([[0, 0, 0, ..., 0, 0, 0],\n",
      "       [0, 0, 0, ..., 1, 0, 0],\n",
      "       [0, 0, 0, ..., 1, 0, 0],\n",
      "       ...,\n",
      "       [0, 0, 0, ..., 0, 0, 0],\n",
      "       [0, 0, 0, ..., 0, 0, 0],\n",
      "       [0, 0, 0, ..., 0, 0, 0]], dtype=uint8), array([[0, 0, 1, ..., 0, 0, 0],\n",
      "       [0, 0, 0, ..., 0, 0, 0],\n",
      "       [0, 0, 0, ..., 0, 0, 0],\n",
      "       ...,\n",
      "       [0, 0, 0, ..., 0, 0, 0],\n",
      "       [0, 0, 1, ..., 0, 0, 0],\n",
      "       [0, 0, 0, ..., 0, 0, 0]], dtype=uint8)]\n"
     ]
    }
   ],
   "source": [
    "y = mat['y']\n",
    "onehot = mat['y_onehot']\n",
    "y_test = []\n",
    "lists = [ [] for _ in range(4) ]\n",
    "for i in range(y.size):\n",
    "    if i%4==0:\n",
    "        lists[0].append(onehot[i])\n",
    "    elif i%4==1:\n",
    "        lists[1].append(onehot[i])\n",
    "    elif i%4==2:\n",
    "        lists[2].append(onehot[i])\n",
    "    else: \n",
    "        lists[3].append(onehot[i])\n",
    "for i in range(4):\n",
    "    lists[i] = np.array(lists[i])\n",
    "    y_test.append(lists[i])\n",
    "print(y_test)"
   ]
  },
  {
   "cell_type": "code",
   "execution_count": 10,
   "metadata": {
    "colab": {
     "base_uri": "https://localhost:8080/"
    },
    "id": "hVDJKo4YYpC8",
    "outputId": "8b6acaa7-6a77-492c-e8e5-a9f728372d08"
   },
   "outputs": [
    {
     "name": "stdout",
     "output_type": "stream",
     "text": [
      "3000\n"
     ]
    }
   ],
   "source": [
    "y = mat['y']\n",
    "code = {}\n",
    "value = ['2','3','4','5','7','9','A','C','F','H','K','M','N','P','Q','R','T','Y','Z']\n",
    "for i in range(19):\n",
    "    code[i] = value[i]\n",
    "y_label = []\n",
    "i = 0\n",
    "while i < y.size:\n",
    "    label=\"\"\n",
    "    for j in range(4):\n",
    "        label+=code[y.item(i)]\n",
    "        i+=1   \n",
    "    y_label.append(label)\n",
    "print(len(y_label))"
   ]
  },
  {
   "cell_type": "markdown",
   "metadata": {
    "id": "7jym2uZnYpC8"
   },
   "source": [
    "Model Evaluation"
   ]
  },
  {
   "cell_type": "code",
   "execution_count": 11,
   "metadata": {
    "colab": {
     "base_uri": "https://localhost:8080/"
    },
    "id": "yh1r57WlYpC9",
    "outputId": "f4a9b7b8-c6c1-43bf-9a22-1378c9455a55"
   },
   "outputs": [
    {
     "name": "stdout",
     "output_type": "stream",
     "text": [
      "188/188 [==============================] - 2s 7ms/step - loss: 0.8231 - digit1_loss: 0.1750 - digit2_loss: 0.2231 - digit3_loss: 0.1471 - digit4_loss: 0.2779 - digit1_digit1_accuracy: 0.9900 - digit2_digit2_accuracy: 0.9853 - digit3_digit3_accuracy: 0.9920 - digit4_digit4_accuracy: 0.9887\n",
      "[0.8231255412101746, 0.17501236498355865, 0.22310516238212585, 0.14709210395812988, 0.27791619300842285, 0.9900000095367432, 0.9853333234786987, 0.9919999837875366, 0.9886666536331177]\n"
     ]
    }
   ],
   "source": [
    "md = load_model('four_digit_model.h5')\n",
    "score =  md.evaluate(x_test, y_test, batch_size= 16)\n",
    "print(score)\n",
    "predict = [np.argmax(md.predict(x_test)[i],axis = 1) for i in range(4)]"
   ]
  },
  {
   "cell_type": "markdown",
   "metadata": {
    "id": "xP_A0h7EYpC9"
   },
   "source": [
    "Performance"
   ]
  },
  {
   "cell_type": "code",
   "execution_count": 12,
   "metadata": {
    "colab": {
     "base_uri": "https://localhost:8080/"
    },
    "id": "VYF56qEFYpC9",
    "outputId": "e52082ff-4d44-4bfd-8840-a4271f6d7906"
   },
   "outputs": [
    {
     "name": "stdout",
     "output_type": "stream",
     "text": [
      "predict = ['7','F','9','4']\n",
      " answer = ['7','F','9','4'] ,wrong words = 0\n",
      "predict = ['4','2','T','7']\n",
      " answer = ['4','2','T','7'] ,wrong words = 0\n",
      "predict = ['C','Y','T','F']\n",
      " answer = ['C','Y','T','F'] ,wrong words = 0\n",
      "predict = ['T','M','F','T']\n",
      " answer = ['T','M','F','T'] ,wrong words = 0\n",
      "predict = ['P','7','K','R']\n",
      " answer = ['P','7','K','R'] ,wrong words = 0\n",
      "predict = ['N','2','Z','K']\n",
      " answer = ['N','2','Z','K'] ,wrong words = 0\n",
      "predict = ['7','4','F','Y']\n",
      " answer = ['7','4','F','Y'] ,wrong words = 0\n",
      "predict = ['Z','Z','5','C']\n",
      " answer = ['Z','Z','5','C'] ,wrong words = 0\n",
      "predict = ['7','Z','4','4']\n",
      " answer = ['7','Z','4','4'] ,wrong words = 0\n",
      "predict = ['R','4','Z','C']\n",
      " answer = ['R','4','Z','C'] ,wrong words = 0\n",
      "predict = ['Y','2','5','T']\n",
      " answer = ['Y','2','5','T'] ,wrong words = 0\n",
      "predict = ['F','M','2','2']\n",
      " answer = ['F','M','2','2'] ,wrong words = 0\n",
      "predict = ['Y','4','M','4']\n",
      " answer = ['Y','4','M','4'] ,wrong words = 0\n",
      "predict = ['M','2','Q','2']\n",
      " answer = ['M','2','Q','2'] ,wrong words = 0\n",
      "predict = ['F','F','7','N']\n",
      " answer = ['F','F','7','N'] ,wrong words = 0\n",
      "predict = ['9','5','R','M']\n",
      " answer = ['9','5','R','M'] ,wrong words = 0\n",
      "predict = ['T','4','T','5']\n",
      " answer = ['T','4','T','5'] ,wrong words = 0\n",
      "predict = ['F','3','4','A']\n",
      " answer = ['F','3','4','3'] ,wrong words = 1\n",
      "predict = ['F','A','4','A']\n",
      " answer = ['F','A','4','A'] ,wrong words = 0\n",
      "predict = ['3','2','H','4']\n",
      " answer = ['3','2','H','4'] ,wrong words = 0\n",
      "predict = ['Q','H','M','A']\n",
      " answer = ['Q','H','M','A'] ,wrong words = 0\n",
      "predict = ['P','Y','C','P']\n",
      " answer = ['P','Y','C','P'] ,wrong words = 0\n",
      "predict = ['A','P','N','M']\n",
      " answer = ['A','P','N','M'] ,wrong words = 0\n",
      "predict = ['R','M','Q','N']\n",
      " answer = ['R','M','Q','N'] ,wrong words = 0\n",
      "predict = ['K','Z','7','4']\n",
      " answer = ['K','Z','7','4'] ,wrong words = 0\n",
      "predict = ['N','F','Z','H']\n",
      " answer = ['N','F','Z','H'] ,wrong words = 0\n",
      "predict = ['Y','2','7','R']\n",
      " answer = ['Y','2','7','R'] ,wrong words = 0\n",
      "predict = ['A','Y','R','K']\n",
      " answer = ['A','Y','R','4'] ,wrong words = 1\n",
      "predict = ['M','9','4','Y']\n",
      " answer = ['M','9','4','Y'] ,wrong words = 0\n",
      "predict = ['3','5','Q','7']\n",
      " answer = ['3','5','Q','7'] ,wrong words = 0\n",
      "predict = ['A','Y','H','A']\n",
      " answer = ['A','Y','H','A'] ,wrong words = 0\n",
      "predict = ['T','R','4','5']\n",
      " answer = ['T','R','4','5'] ,wrong words = 0\n",
      "predict = ['Q','T','R','4']\n",
      " answer = ['Q','T','R','4'] ,wrong words = 0\n",
      "predict = ['2','7','3','A']\n",
      " answer = ['2','7','3','A'] ,wrong words = 0\n",
      "predict = ['Q','M','Y','F']\n",
      " answer = ['Q','M','Y','F'] ,wrong words = 0\n",
      "predict = ['2','Y','N','K']\n",
      " answer = ['2','Y','N','K'] ,wrong words = 0\n",
      "predict = ['F','H','T','P']\n",
      " answer = ['R','H','T','P'] ,wrong words = 1\n",
      "predict = ['7','K','Q','M']\n",
      " answer = ['7','K','Q','5'] ,wrong words = 1\n",
      "predict = ['7','H','Y','P']\n",
      " answer = ['7','H','Y','P'] ,wrong words = 0\n",
      "predict = ['5','M','3','K']\n",
      " answer = ['5','M','3','K'] ,wrong words = 0\n",
      "\n",
      "\n",
      "3000 picture total wrong = 113\n",
      " one word accuracy : 0.989\n",
      "four word accuracy : 0.9623333333333334\n"
     ]
    }
   ],
   "source": [
    "one_w = 0\n",
    "four_w = 0\n",
    "for i in range(3000):\n",
    "    y_pred=\"\"\n",
    "    wrong = 0\n",
    "    for j in range(4):\n",
    "        y_pred+=code[predict[j][i]]\n",
    "        if y_pred[j]!=y_label[i][j] :\n",
    "            if wrong==0:\n",
    "                four_w+=1\n",
    "            wrong+=1\n",
    "            one_w+=1\n",
    "    if(i<40):\n",
    "        print(\"predict = ['\"+str(y_pred[0])+\"','\"+str(y_pred[1])+\"','\"+str(y_pred[2])+\"','\"+str(y_pred[3])+\"']\")\n",
    "        print(\" answer = ['\"+str(y_label[i][0])+\"','\"+str(y_label[i][1])+\"','\"+str(y_label[i][2])+\"','\"+str(y_label[i][3])+\"'] ,wrong words = \"+str(wrong))\n",
    "print(\"\\n\\n3000 picture total wrong = \"+str(four_w))\n",
    "print(\" one word accuracy : \"+str((12000-one_w)/12000))\n",
    "print(\"four word accuracy : \"+str((3000-four_w)/3000))"
   ]
  }
 ],
 "metadata": {
  "accelerator": "GPU",
  "colab": {
   "collapsed_sections": [],
   "name": "captcha_recognition.ipynb",
   "provenance": []
  },
  "kernelspec": {
   "display_name": "Python 3",
   "language": "python",
   "name": "python3"
  },
  "language_info": {
   "codemirror_mode": {
    "name": "ipython",
    "version": 3
   },
   "file_extension": ".py",
   "mimetype": "text/x-python",
   "name": "python",
   "nbconvert_exporter": "python",
   "pygments_lexer": "ipython3",
   "version": "3.7.10"
  }
 },
 "nbformat": 4,
 "nbformat_minor": 1
}
